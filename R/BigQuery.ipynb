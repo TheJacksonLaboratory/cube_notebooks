{
 "cells": [
  {
   "cell_type": "markdown",
   "metadata": {},
   "source": [
    "# SNP Grid Data Using BigQuery\n",
    "Using BigQuery to access large amount of SNP Grid data"
   ]
  },
  {
   "cell_type": "code",
   "execution_count": 2,
   "metadata": {},
   "outputs": [
    {
     "name": "stderr",
     "output_type": "stream",
     "text": [
      "\n",
      "Attaching package: ‘dplyr’\n",
      "\n",
      "\n",
      "The following objects are masked from ‘package:stats’:\n",
      "\n",
      "    filter, lag\n",
      "\n",
      "\n",
      "The following objects are masked from ‘package:base’:\n",
      "\n",
      "    intersect, setdiff, setequal, union\n",
      "\n",
      "\n"
     ]
    }
   ],
   "source": [
    "library(bigrquery) # used for querying BigQuery\n",
    "library(ggplot2) # used for visualization\n",
    "library(dplyr) # used for data wrangling"
   ]
  },
  {
   "cell_type": "code",
   "execution_count": 1,
   "metadata": {},
   "outputs": [
    {
     "ename": "ERROR",
     "evalue": "Error in bq_auth(use_oob = True): could not find function \"bq_auth\"\n",
     "output_type": "error",
     "traceback": [
      "Error in bq_auth(use_oob = True): could not find function \"bq_auth\"\nTraceback:\n"
     ]
    }
   ],
   "source": [
    "# authorization\n",
    "bq_auth(use_oob = True)"
   ]
  },
  {
   "cell_type": "code",
   "execution_count": 3,
   "metadata": {},
   "outputs": [],
   "source": [
    "# Set the project ID\n",
    "PROJECT_ID <- \"jax-cube-prd-ctrl-01\""
   ]
  },
  {
   "cell_type": "code",
   "execution_count": 4,
   "metadata": {},
   "outputs": [
    {
     "data": {
      "text/html": [
       "<table>\n",
       "<caption>A tibble: 1 × 1</caption>\n",
       "<thead>\n",
       "\t<tr><th scope=col>f0_</th></tr>\n",
       "\t<tr><th scope=col>&lt;int&gt;</th></tr>\n",
       "</thead>\n",
       "<tbody>\n",
       "\t<tr><td>172452029</td></tr>\n",
       "</tbody>\n",
       "</table>\n"
      ],
      "text/latex": [
       "A tibble: 1 × 1\n",
       "\\begin{tabular}{l}\n",
       " f0\\_\\\\\n",
       " <int>\\\\\n",
       "\\hline\n",
       "\t 172452029\\\\\n",
       "\\end{tabular}\n"
      ],
      "text/markdown": [
       "\n",
       "A tibble: 1 × 1\n",
       "\n",
       "| f0_ &lt;int&gt; |\n",
       "|---|\n",
       "| 172452029 |\n",
       "\n"
      ],
      "text/plain": [
       "  f0_      \n",
       "1 172452029"
      ]
     },
     "metadata": {},
     "output_type": "display_data"
    }
   ],
   "source": [
    "sql_query <- \"SELECT count(*) FROM `jax-cube-prd-ctrl-01.mouse_snp.chr6_flat`\"\n",
    "snp_data <- bq_table_download(\n",
    "    bq_project_query(PROJECT_ID, query=sql_query)\n",
    ")\n",
    "snp_data"
   ]
  },
  {
   "cell_type": "code",
   "execution_count": 5,
   "metadata": {},
   "outputs": [
    {
     "name": "stderr",
     "output_type": "stream",
     "text": [
      "Warning message in as.integer.integer64(x):\n",
      "“NAs produced by integer overflow”\n"
     ]
    },
    {
     "data": {
      "text/html": [
       "<table>\n",
       "<caption>A tibble: 5 × 9</caption>\n",
       "<thead>\n",
       "\t<tr><th scope=col>chr</th><th scope=col>start_position</th><th scope=col>rs</th><th scope=col>strain_id</th><th scope=col>strain_name</th><th scope=col>imputed_flag</th><th scope=col>genotype</th><th scope=col>percent_imputed</th><th scope=col>percent_missing</th></tr>\n",
       "\t<tr><th scope=col>&lt;chr&gt;</th><th scope=col>&lt;int&gt;</th><th scope=col>&lt;list&gt;</th><th scope=col>&lt;int&gt;</th><th scope=col>&lt;chr&gt;</th><th scope=col>&lt;list&gt;</th><th scope=col>&lt;chr&gt;</th><th scope=col>&lt;dbl&gt;</th><th scope=col>&lt;dbl&gt;</th></tr>\n",
       "</thead>\n",
       "<tbody>\n",
       "\t<tr><td>6</td><td>117415518</td><td>rs232600184</td><td>NA</td><td>SSL/LeJ:SSL/LeJ                </td><td>1</td><td>A </td><td> 5</td><td>93.4</td></tr>\n",
       "\t<tr><td>6</td><td>117944740</td><td>rs585446078</td><td>NA</td><td>ILSXISS94/TejJ:ILSXISS94/TejJ  </td><td>1</td><td>G </td><td> 5</td><td>93.8</td></tr>\n",
       "\t<tr><td>6</td><td>111027727</td><td></td><td>NA</td><td>IHOT-2:IHOT-2                  </td><td>1</td><td>G </td><td>12</td><td> 1.6</td></tr>\n",
       "\t<tr><td>6</td><td>111027727</td><td></td><td>NA</td><td>ILSXISS114/TejJ:ILSXISS114/TejJ</td><td>1</td><td>G </td><td>12</td><td> 1.6</td></tr>\n",
       "\t<tr><td>6</td><td>111487357</td><td>rs583810774</td><td>NA</td><td>NZW/LacJ:NZW/LacJ              </td><td>0</td><td>NA</td><td>13</td><td>85.6</td></tr>\n",
       "</tbody>\n",
       "</table>\n"
      ],
      "text/latex": [
       "A tibble: 5 × 9\n",
       "\\begin{tabular}{lllllllll}\n",
       " chr & start\\_position & rs & strain\\_id & strain\\_name & imputed\\_flag & genotype & percent\\_imputed & percent\\_missing\\\\\n",
       " <chr> & <int> & <list> & <int> & <chr> & <list> & <chr> & <dbl> & <dbl>\\\\\n",
       "\\hline\n",
       "\t 6 & 117415518 & rs232600184 & NA & SSL/LeJ:SSL/LeJ                 & 1 & A  &  5 & 93.4\\\\\n",
       "\t 6 & 117944740 & rs585446078 & NA & ILSXISS94/TejJ:ILSXISS94/TejJ   & 1 & G  &  5 & 93.8\\\\\n",
       "\t 6 & 111027727 &  & NA & IHOT-2:IHOT-2                   & 1 & G  & 12 &  1.6\\\\\n",
       "\t 6 & 111027727 &  & NA & ILSXISS114/TejJ:ILSXISS114/TejJ & 1 & G  & 12 &  1.6\\\\\n",
       "\t 6 & 111487357 & rs583810774 & NA & NZW/LacJ:NZW/LacJ               & 0 & NA & 13 & 85.6\\\\\n",
       "\\end{tabular}\n"
      ],
      "text/markdown": [
       "\n",
       "A tibble: 5 × 9\n",
       "\n",
       "| chr &lt;chr&gt; | start_position &lt;int&gt; | rs &lt;list&gt; | strain_id &lt;int&gt; | strain_name &lt;chr&gt; | imputed_flag &lt;list&gt; | genotype &lt;chr&gt; | percent_imputed &lt;dbl&gt; | percent_missing &lt;dbl&gt; |\n",
       "|---|---|---|---|---|---|---|---|---|\n",
       "| 6 | 117415518 | rs232600184 | NA | SSL/LeJ:SSL/LeJ                 | 1 | A  |  5 | 93.4 |\n",
       "| 6 | 117944740 | rs585446078 | NA | ILSXISS94/TejJ:ILSXISS94/TejJ   | 1 | G  |  5 | 93.8 |\n",
       "| 6 | 111027727 | <!----> | NA | IHOT-2:IHOT-2                   | 1 | G  | 12 |  1.6 |\n",
       "| 6 | 111027727 | <!----> | NA | ILSXISS114/TejJ:ILSXISS114/TejJ | 1 | G  | 12 |  1.6 |\n",
       "| 6 | 111487357 | rs583810774 | NA | NZW/LacJ:NZW/LacJ               | 0 | NA | 13 | 85.6 |\n",
       "\n"
      ],
      "text/plain": [
       "  chr start_position rs          strain_id strain_name                    \n",
       "1 6   117415518      rs232600184 NA        SSL/LeJ:SSL/LeJ                \n",
       "2 6   117944740      rs585446078 NA        ILSXISS94/TejJ:ILSXISS94/TejJ  \n",
       "3 6   111027727                  NA        IHOT-2:IHOT-2                  \n",
       "4 6   111027727                  NA        ILSXISS114/TejJ:ILSXISS114/TejJ\n",
       "5 6   111487357      rs583810774 NA        NZW/LacJ:NZW/LacJ              \n",
       "  imputed_flag genotype percent_imputed percent_missing\n",
       "1 1            A         5              93.4           \n",
       "2 1            G         5              93.8           \n",
       "3 1            G        12               1.6           \n",
       "4 1            G        12               1.6           \n",
       "5 0            NA       13              85.6           "
      ]
     },
     "metadata": {},
     "output_type": "display_data"
    }
   ],
   "source": [
    "sql_query <- \"SELECT * FROM `jax-cube-prd-ctrl-01.mouse_snp.chr6_flat` limit 50\"\n",
    "snp_data <- bq_table_download(\n",
    "    bq_project_query(PROJECT_ID, query=sql_query)\n",
    ")\n",
    "head(snp_data, 5)"
   ]
  },
  {
   "cell_type": "code",
   "execution_count": null,
   "metadata": {},
   "outputs": [],
   "source": [
    "str(snp_data)"
   ]
  },
  {
   "cell_type": "code",
   "execution_count": null,
   "metadata": {},
   "outputs": [],
   "source": [
    "summary(snp_data)"
   ]
  },
  {
   "cell_type": "code",
   "execution_count": 6,
   "metadata": {},
   "outputs": [
    {
     "data": {
      "text/html": [
       "<table>\n",
       "<caption>A tibble: 577 × 2</caption>\n",
       "<thead>\n",
       "\t<tr><th scope=col>strain_name</th><th scope=col>f0_</th></tr>\n",
       "\t<tr><th scope=col>&lt;chr&gt;</th><th scope=col>&lt;int&gt;</th></tr>\n",
       "</thead>\n",
       "<tbody>\n",
       "\t<tr><td>ISS/IbgTejJ:ISS/IbgTejJ      </td><td> 885</td></tr>\n",
       "\t<tr><td>B6.A-Chr3:B6.A-Chr3          </td><td> 809</td></tr>\n",
       "\t<tr><td>CHMU/LeJ:CHMU/LeJ            </td><td> 806</td></tr>\n",
       "\t<tr><td>BXD71/RwwJ:BXD71/RwwJ        </td><td> 911</td></tr>\n",
       "\t<tr><td>B6.A-Chr16:B6.A-Chr16        </td><td> 809</td></tr>\n",
       "\t<tr><td>LG/J:LG/J                    </td><td>1030</td></tr>\n",
       "\t<tr><td>MOLD/RkJ:MOLD/RkJ            </td><td>1342</td></tr>\n",
       "\t<tr><td>CC018/Unc:CC018/Unc          </td><td>1093</td></tr>\n",
       "\t<tr><td>B6.A-Chr15:B6.A-Chr15        </td><td> 809</td></tr>\n",
       "\t<tr><td>BXD68/RwwJ:BXD68/RwwJ        </td><td> 809</td></tr>\n",
       "\t<tr><td>B6.A-Chr19:B6.A-Chr19        </td><td> 809</td></tr>\n",
       "\t<tr><td>CC030/GeniUnc:CC030/GeniUnc  </td><td>1064</td></tr>\n",
       "\t<tr><td>CAST/EiJ:CAST/EiJ            </td><td>1353</td></tr>\n",
       "\t<tr><td>C57L/J:C57L/J                </td><td>1125</td></tr>\n",
       "\t<tr><td>BXA22/Pgn:BXA22/Pgn          </td><td>1213</td></tr>\n",
       "\t<tr><td>C57BL/10ScNJ:C57BL/10ScNJ    </td><td> 809</td></tr>\n",
       "\t<tr><td>CC032/GeniUnc:CC032/GeniUnc  </td><td>1223</td></tr>\n",
       "\t<tr><td>CC053/Unc:CC053/Unc          </td><td>1093</td></tr>\n",
       "\t<tr><td>CC076/Unc:CC076/Unc          </td><td>1342</td></tr>\n",
       "\t<tr><td>BXA23/Pgn:BXA23/Pgn          </td><td>1405</td></tr>\n",
       "\t<tr><td>CXB5/ByJ:CXB5/ByJ            </td><td>1213</td></tr>\n",
       "\t<tr><td>AKXL17/TyJ:AKXL17/TyJ        </td><td> 926</td></tr>\n",
       "\t<tr><td>SSL/LeJ:SSL/LeJ              </td><td> 809</td></tr>\n",
       "\t<tr><td>AKXL24/TyJ:AKXL24/TyJ        </td><td> 926</td></tr>\n",
       "\t<tr><td>ILSXISS41/TejJ:ILSXISS41/TejJ</td><td> 885</td></tr>\n",
       "\t<tr><td>ALR/LtJ:ALR/LtJ              </td><td> 903</td></tr>\n",
       "\t<tr><td>CXB10/HiAJ:CXB10/HiAJ        </td><td>1213</td></tr>\n",
       "\t<tr><td>BXD100:BXD100                </td><td> 953</td></tr>\n",
       "\t<tr><td>RHJ/LeJ:RHJ/LeJ              </td><td> 910</td></tr>\n",
       "\t<tr><td>CASA/RkJ:CASA/RkJ            </td><td>1346</td></tr>\n",
       "\t<tr><td>⋮</td><td>⋮</td></tr>\n",
       "\t<tr><td>B6.PWD-Chr12:B6.PWD-Chr12    </td><td>809</td></tr>\n",
       "\t<tr><td>B6.A-Chr6:B6.A-Chr6          </td><td>871</td></tr>\n",
       "\t<tr><td>B6.PWD-Chr11.1:B6.PWD-Chr11.1</td><td>809</td></tr>\n",
       "\t<tr><td>B6.A-Chr17:B6.A-Chr17        </td><td>809</td></tr>\n",
       "\t<tr><td>BXH4/TyJ:BXH4/TyJ            </td><td>818</td></tr>\n",
       "\t<tr><td>CC005/TauUnc:CC005/TauUnc    </td><td>938</td></tr>\n",
       "\t<tr><td>B6.A-Chr8:B6.A-Chr8          </td><td>809</td></tr>\n",
       "\t<tr><td>129P1/ReJ:129P1/ReJ          </td><td>903</td></tr>\n",
       "\t<tr><td>B6.A-Chr12:B6.A-Chr12        </td><td>809</td></tr>\n",
       "\t<tr><td>ILSXISS89/TejJ:ILSXISS89/TejJ</td><td>912</td></tr>\n",
       "\t<tr><td>CALB/RkJ:CALB/RkJ            </td><td> 23</td></tr>\n",
       "\t<tr><td>CZECHII/EiJ:CZECHII/EiJ      </td><td> 17</td></tr>\n",
       "\t<tr><td>SKIVE/EiJ:SKIVE/EiJ          </td><td> 19</td></tr>\n",
       "\t<tr><td>NU/J:NU/J                    </td><td> 23</td></tr>\n",
       "\t<tr><td>O20:O20                      </td><td>  4</td></tr>\n",
       "\t<tr><td>TIRANO/EiJ:TIRANO/EiJ        </td><td> 24</td></tr>\n",
       "\t<tr><td>CC027/GeniUnc:CC027/GeniUnc  </td><td>  3</td></tr>\n",
       "\t<tr><td>PERC/EiJ:PERC/EiJ            </td><td> 22</td></tr>\n",
       "\t<tr><td>PANCEVO/EiJ:PANCEVO/EiJ      </td><td> 17</td></tr>\n",
       "\t<tr><td>MAI/Pas:MAI/Pas              </td><td>  2</td></tr>\n",
       "\t<tr><td>QSi5:QSi5                    </td><td>  2</td></tr>\n",
       "\t<tr><td>IS/CamRkJ:IS/CamRkJ          </td><td> 22</td></tr>\n",
       "\t<tr><td>BXD86:BXD86                  </td><td>  7</td></tr>\n",
       "\t<tr><td>CZECHI/EiJ:CZECHI/EiJ        </td><td> 17</td></tr>\n",
       "\t<tr><td>CC050/Unc:CC050/Unc          </td><td>  3</td></tr>\n",
       "\t<tr><td>CC015/Unc:CC015/Unc          </td><td>  3</td></tr>\n",
       "\t<tr><td>PAHARI/EiJ:PAHARI/EiJ        </td><td>  4</td></tr>\n",
       "\t<tr><td>CC074/Unc:CC074/Unc          </td><td>  3</td></tr>\n",
       "\t<tr><td>CC035/Unc:CC035/Unc          </td><td>  4</td></tr>\n",
       "\t<tr><td>SEG/Pas:SEG/Pas              </td><td>  1</td></tr>\n",
       "</tbody>\n",
       "</table>\n"
      ],
      "text/latex": [
       "A tibble: 577 × 2\n",
       "\\begin{tabular}{ll}\n",
       " strain\\_name & f0\\_\\\\\n",
       " <chr> & <int>\\\\\n",
       "\\hline\n",
       "\t ISS/IbgTejJ:ISS/IbgTejJ       &  885\\\\\n",
       "\t B6.A-Chr3:B6.A-Chr3           &  809\\\\\n",
       "\t CHMU/LeJ:CHMU/LeJ             &  806\\\\\n",
       "\t BXD71/RwwJ:BXD71/RwwJ         &  911\\\\\n",
       "\t B6.A-Chr16:B6.A-Chr16         &  809\\\\\n",
       "\t LG/J:LG/J                     & 1030\\\\\n",
       "\t MOLD/RkJ:MOLD/RkJ             & 1342\\\\\n",
       "\t CC018/Unc:CC018/Unc           & 1093\\\\\n",
       "\t B6.A-Chr15:B6.A-Chr15         &  809\\\\\n",
       "\t BXD68/RwwJ:BXD68/RwwJ         &  809\\\\\n",
       "\t B6.A-Chr19:B6.A-Chr19         &  809\\\\\n",
       "\t CC030/GeniUnc:CC030/GeniUnc   & 1064\\\\\n",
       "\t CAST/EiJ:CAST/EiJ             & 1353\\\\\n",
       "\t C57L/J:C57L/J                 & 1125\\\\\n",
       "\t BXA22/Pgn:BXA22/Pgn           & 1213\\\\\n",
       "\t C57BL/10ScNJ:C57BL/10ScNJ     &  809\\\\\n",
       "\t CC032/GeniUnc:CC032/GeniUnc   & 1223\\\\\n",
       "\t CC053/Unc:CC053/Unc           & 1093\\\\\n",
       "\t CC076/Unc:CC076/Unc           & 1342\\\\\n",
       "\t BXA23/Pgn:BXA23/Pgn           & 1405\\\\\n",
       "\t CXB5/ByJ:CXB5/ByJ             & 1213\\\\\n",
       "\t AKXL17/TyJ:AKXL17/TyJ         &  926\\\\\n",
       "\t SSL/LeJ:SSL/LeJ               &  809\\\\\n",
       "\t AKXL24/TyJ:AKXL24/TyJ         &  926\\\\\n",
       "\t ILSXISS41/TejJ:ILSXISS41/TejJ &  885\\\\\n",
       "\t ALR/LtJ:ALR/LtJ               &  903\\\\\n",
       "\t CXB10/HiAJ:CXB10/HiAJ         & 1213\\\\\n",
       "\t BXD100:BXD100                 &  953\\\\\n",
       "\t RHJ/LeJ:RHJ/LeJ               &  910\\\\\n",
       "\t CASA/RkJ:CASA/RkJ             & 1346\\\\\n",
       "\t ⋮ & ⋮\\\\\n",
       "\t B6.PWD-Chr12:B6.PWD-Chr12     & 809\\\\\n",
       "\t B6.A-Chr6:B6.A-Chr6           & 871\\\\\n",
       "\t B6.PWD-Chr11.1:B6.PWD-Chr11.1 & 809\\\\\n",
       "\t B6.A-Chr17:B6.A-Chr17         & 809\\\\\n",
       "\t BXH4/TyJ:BXH4/TyJ             & 818\\\\\n",
       "\t CC005/TauUnc:CC005/TauUnc     & 938\\\\\n",
       "\t B6.A-Chr8:B6.A-Chr8           & 809\\\\\n",
       "\t 129P1/ReJ:129P1/ReJ           & 903\\\\\n",
       "\t B6.A-Chr12:B6.A-Chr12         & 809\\\\\n",
       "\t ILSXISS89/TejJ:ILSXISS89/TejJ & 912\\\\\n",
       "\t CALB/RkJ:CALB/RkJ             &  23\\\\\n",
       "\t CZECHII/EiJ:CZECHII/EiJ       &  17\\\\\n",
       "\t SKIVE/EiJ:SKIVE/EiJ           &  19\\\\\n",
       "\t NU/J:NU/J                     &  23\\\\\n",
       "\t O20:O20                       &   4\\\\\n",
       "\t TIRANO/EiJ:TIRANO/EiJ         &  24\\\\\n",
       "\t CC027/GeniUnc:CC027/GeniUnc   &   3\\\\\n",
       "\t PERC/EiJ:PERC/EiJ             &  22\\\\\n",
       "\t PANCEVO/EiJ:PANCEVO/EiJ       &  17\\\\\n",
       "\t MAI/Pas:MAI/Pas               &   2\\\\\n",
       "\t QSi5:QSi5                     &   2\\\\\n",
       "\t IS/CamRkJ:IS/CamRkJ           &  22\\\\\n",
       "\t BXD86:BXD86                   &   7\\\\\n",
       "\t CZECHI/EiJ:CZECHI/EiJ         &  17\\\\\n",
       "\t CC050/Unc:CC050/Unc           &   3\\\\\n",
       "\t CC015/Unc:CC015/Unc           &   3\\\\\n",
       "\t PAHARI/EiJ:PAHARI/EiJ         &   4\\\\\n",
       "\t CC074/Unc:CC074/Unc           &   3\\\\\n",
       "\t CC035/Unc:CC035/Unc           &   4\\\\\n",
       "\t SEG/Pas:SEG/Pas               &   1\\\\\n",
       "\\end{tabular}\n"
      ],
      "text/markdown": [
       "\n",
       "A tibble: 577 × 2\n",
       "\n",
       "| strain_name &lt;chr&gt; | f0_ &lt;int&gt; |\n",
       "|---|---|\n",
       "| ISS/IbgTejJ:ISS/IbgTejJ       |  885 |\n",
       "| B6.A-Chr3:B6.A-Chr3           |  809 |\n",
       "| CHMU/LeJ:CHMU/LeJ             |  806 |\n",
       "| BXD71/RwwJ:BXD71/RwwJ         |  911 |\n",
       "| B6.A-Chr16:B6.A-Chr16         |  809 |\n",
       "| LG/J:LG/J                     | 1030 |\n",
       "| MOLD/RkJ:MOLD/RkJ             | 1342 |\n",
       "| CC018/Unc:CC018/Unc           | 1093 |\n",
       "| B6.A-Chr15:B6.A-Chr15         |  809 |\n",
       "| BXD68/RwwJ:BXD68/RwwJ         |  809 |\n",
       "| B6.A-Chr19:B6.A-Chr19         |  809 |\n",
       "| CC030/GeniUnc:CC030/GeniUnc   | 1064 |\n",
       "| CAST/EiJ:CAST/EiJ             | 1353 |\n",
       "| C57L/J:C57L/J                 | 1125 |\n",
       "| BXA22/Pgn:BXA22/Pgn           | 1213 |\n",
       "| C57BL/10ScNJ:C57BL/10ScNJ     |  809 |\n",
       "| CC032/GeniUnc:CC032/GeniUnc   | 1223 |\n",
       "| CC053/Unc:CC053/Unc           | 1093 |\n",
       "| CC076/Unc:CC076/Unc           | 1342 |\n",
       "| BXA23/Pgn:BXA23/Pgn           | 1405 |\n",
       "| CXB5/ByJ:CXB5/ByJ             | 1213 |\n",
       "| AKXL17/TyJ:AKXL17/TyJ         |  926 |\n",
       "| SSL/LeJ:SSL/LeJ               |  809 |\n",
       "| AKXL24/TyJ:AKXL24/TyJ         |  926 |\n",
       "| ILSXISS41/TejJ:ILSXISS41/TejJ |  885 |\n",
       "| ALR/LtJ:ALR/LtJ               |  903 |\n",
       "| CXB10/HiAJ:CXB10/HiAJ         | 1213 |\n",
       "| BXD100:BXD100                 |  953 |\n",
       "| RHJ/LeJ:RHJ/LeJ               |  910 |\n",
       "| CASA/RkJ:CASA/RkJ             | 1346 |\n",
       "| ⋮ | ⋮ |\n",
       "| B6.PWD-Chr12:B6.PWD-Chr12     | 809 |\n",
       "| B6.A-Chr6:B6.A-Chr6           | 871 |\n",
       "| B6.PWD-Chr11.1:B6.PWD-Chr11.1 | 809 |\n",
       "| B6.A-Chr17:B6.A-Chr17         | 809 |\n",
       "| BXH4/TyJ:BXH4/TyJ             | 818 |\n",
       "| CC005/TauUnc:CC005/TauUnc     | 938 |\n",
       "| B6.A-Chr8:B6.A-Chr8           | 809 |\n",
       "| 129P1/ReJ:129P1/ReJ           | 903 |\n",
       "| B6.A-Chr12:B6.A-Chr12         | 809 |\n",
       "| ILSXISS89/TejJ:ILSXISS89/TejJ | 912 |\n",
       "| CALB/RkJ:CALB/RkJ             |  23 |\n",
       "| CZECHII/EiJ:CZECHII/EiJ       |  17 |\n",
       "| SKIVE/EiJ:SKIVE/EiJ           |  19 |\n",
       "| NU/J:NU/J                     |  23 |\n",
       "| O20:O20                       |   4 |\n",
       "| TIRANO/EiJ:TIRANO/EiJ         |  24 |\n",
       "| CC027/GeniUnc:CC027/GeniUnc   |   3 |\n",
       "| PERC/EiJ:PERC/EiJ             |  22 |\n",
       "| PANCEVO/EiJ:PANCEVO/EiJ       |  17 |\n",
       "| MAI/Pas:MAI/Pas               |   2 |\n",
       "| QSi5:QSi5                     |   2 |\n",
       "| IS/CamRkJ:IS/CamRkJ           |  22 |\n",
       "| BXD86:BXD86                   |   7 |\n",
       "| CZECHI/EiJ:CZECHI/EiJ         |  17 |\n",
       "| CC050/Unc:CC050/Unc           |   3 |\n",
       "| CC015/Unc:CC015/Unc           |   3 |\n",
       "| PAHARI/EiJ:PAHARI/EiJ         |   4 |\n",
       "| CC074/Unc:CC074/Unc           |   3 |\n",
       "| CC035/Unc:CC035/Unc           |   4 |\n",
       "| SEG/Pas:SEG/Pas               |   1 |\n",
       "\n"
      ],
      "text/plain": [
       "    strain_name                   f0_ \n",
       "1   ISS/IbgTejJ:ISS/IbgTejJ        885\n",
       "2   B6.A-Chr3:B6.A-Chr3            809\n",
       "3   CHMU/LeJ:CHMU/LeJ              806\n",
       "4   BXD71/RwwJ:BXD71/RwwJ          911\n",
       "5   B6.A-Chr16:B6.A-Chr16          809\n",
       "6   LG/J:LG/J                     1030\n",
       "7   MOLD/RkJ:MOLD/RkJ             1342\n",
       "8   CC018/Unc:CC018/Unc           1093\n",
       "9   B6.A-Chr15:B6.A-Chr15          809\n",
       "10  BXD68/RwwJ:BXD68/RwwJ          809\n",
       "11  B6.A-Chr19:B6.A-Chr19          809\n",
       "12  CC030/GeniUnc:CC030/GeniUnc   1064\n",
       "13  CAST/EiJ:CAST/EiJ             1353\n",
       "14  C57L/J:C57L/J                 1125\n",
       "15  BXA22/Pgn:BXA22/Pgn           1213\n",
       "16  C57BL/10ScNJ:C57BL/10ScNJ      809\n",
       "17  CC032/GeniUnc:CC032/GeniUnc   1223\n",
       "18  CC053/Unc:CC053/Unc           1093\n",
       "19  CC076/Unc:CC076/Unc           1342\n",
       "20  BXA23/Pgn:BXA23/Pgn           1405\n",
       "21  CXB5/ByJ:CXB5/ByJ             1213\n",
       "22  AKXL17/TyJ:AKXL17/TyJ          926\n",
       "23  SSL/LeJ:SSL/LeJ                809\n",
       "24  AKXL24/TyJ:AKXL24/TyJ          926\n",
       "25  ILSXISS41/TejJ:ILSXISS41/TejJ  885\n",
       "26  ALR/LtJ:ALR/LtJ                903\n",
       "27  CXB10/HiAJ:CXB10/HiAJ         1213\n",
       "28  BXD100:BXD100                  953\n",
       "29  RHJ/LeJ:RHJ/LeJ                910\n",
       "30  CASA/RkJ:CASA/RkJ             1346\n",
       "⋮   ⋮                             ⋮   \n",
       "548 B6.PWD-Chr12:B6.PWD-Chr12     809 \n",
       "549 B6.A-Chr6:B6.A-Chr6           871 \n",
       "550 B6.PWD-Chr11.1:B6.PWD-Chr11.1 809 \n",
       "551 B6.A-Chr17:B6.A-Chr17         809 \n",
       "552 BXH4/TyJ:BXH4/TyJ             818 \n",
       "553 CC005/TauUnc:CC005/TauUnc     938 \n",
       "554 B6.A-Chr8:B6.A-Chr8           809 \n",
       "555 129P1/ReJ:129P1/ReJ           903 \n",
       "556 B6.A-Chr12:B6.A-Chr12         809 \n",
       "557 ILSXISS89/TejJ:ILSXISS89/TejJ 912 \n",
       "558 CALB/RkJ:CALB/RkJ              23 \n",
       "559 CZECHII/EiJ:CZECHII/EiJ        17 \n",
       "560 SKIVE/EiJ:SKIVE/EiJ            19 \n",
       "561 NU/J:NU/J                      23 \n",
       "562 O20:O20                         4 \n",
       "563 TIRANO/EiJ:TIRANO/EiJ          24 \n",
       "564 CC027/GeniUnc:CC027/GeniUnc     3 \n",
       "565 PERC/EiJ:PERC/EiJ              22 \n",
       "566 PANCEVO/EiJ:PANCEVO/EiJ        17 \n",
       "567 MAI/Pas:MAI/Pas                 2 \n",
       "568 QSi5:QSi5                       2 \n",
       "569 IS/CamRkJ:IS/CamRkJ            22 \n",
       "570 BXD86:BXD86                     7 \n",
       "571 CZECHI/EiJ:CZECHI/EiJ          17 \n",
       "572 CC050/Unc:CC050/Unc             3 \n",
       "573 CC015/Unc:CC015/Unc             3 \n",
       "574 PAHARI/EiJ:PAHARI/EiJ           4 \n",
       "575 CC074/Unc:CC074/Unc             3 \n",
       "576 CC035/Unc:CC035/Unc             4 \n",
       "577 SEG/Pas:SEG/Pas                 1 "
      ]
     },
     "metadata": {},
     "output_type": "display_data"
    }
   ],
   "source": [
    "sql_query <- \"SELECT distinct strain_name, count(*) \n",
    "     FROM `jax-cube-prd-ctrl-01.mouse_snp.chr6_flat`\n",
    "     WHERE percent_imputed < 50.0 and genotype = 'A' group by strain_name\"\n",
    "snp_data <- bq_table_download(\n",
    "    bq_project_query(PROJECT_ID, query=sql_query)\n",
    ")\n",
    "snp_data"
   ]
  },
  {
   "cell_type": "code",
   "execution_count": 7,
   "metadata": {},
   "outputs": [
    {
     "data": {
      "image/png": "[encoded data removed]",
      "text/plain": [
       "Plot with title “count”"
      ]
     },
     "metadata": {
      "image/png": {
       "height": 420,
       "width": 420
      },
      "text/plain": {
       "height": 420,
       "width": 420
      }
     },
     "output_type": "display_data"
    }
   ],
   "source": [
    "sql_query <- \"SELECT genotype \n",
    "     FROM `jax-cube-prd-ctrl-01.mouse_snp.chr6_flat`\n",
    "     limit 10000\"\n",
    "snp_data <- bq_table_download(\n",
    "    bq_project_query(PROJECT_ID, query=sql_query)\n",
    ")\n",
    "\n",
    "counts <- table(snp_data$genotype)\n",
    "barplot(counts, main=\"count\", xlab=\"Genotype\")"
   ]
  },
  {
   "cell_type": "code",
   "execution_count": null,
   "metadata": {},
   "outputs": [],
   "source": []
  }
 ],
 "metadata": {
  "kernelspec": {
   "display_name": "R",
   "language": "R",
   "name": "ir"
  },
  "language_info": {
   "codemirror_mode": "r",
   "file_extension": ".r",
   "mimetype": "text/x-r-source",
   "name": "R",
   "pygments_lexer": "r",
   "version": "3.6.3"
  }
 },
 "nbformat": 4,
 "nbformat_minor": 4
}
