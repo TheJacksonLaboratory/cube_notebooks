{
 "cells": [
  {
   "cell_type": "markdown",
   "metadata": {},
   "source": [
    "# Drug Treatment Data\n",
    "Drug treatment data"
   ]
  },
  {
   "cell_type": "code",
   "execution_count": 1,
   "metadata": {},
   "outputs": [
    {
     "name": "stdout",
     "output_type": "stream",
     "text": [
      "[1] \"dataset:  jaxdrug0110322\" \"dataset:  jaxdrug5500783\"\n"
     ]
    },
    {
     "data": {
      "text/html": [
       "<table>\n",
       "<caption>A data.frame: 18 × 5</caption>\n",
       "<thead>\n",
       "\t<tr><th scope=col>element_id</th><th scope=col>element_label</th><th scope=col>instance_id</th><th scope=col>date_created</th><th scope=col>property_value</th></tr>\n",
       "\t<tr><th scope=col>&lt;int&gt;</th><th scope=col>&lt;fct&gt;</th><th scope=col>&lt;int&gt;</th><th scope=col>&lt;fct&gt;</th><th scope=col>&lt;fct&gt;</th></tr>\n",
       "</thead>\n",
       "<tbody>\n",
       "\t<tr><td>85</td><td>Assay</td><td>37</td><td>2020-07-31 17:11:26.12+00 </td><td>Genotyping Arrays        </td></tr>\n",
       "\t<tr><td>85</td><td>Assay</td><td>37</td><td>2020-07-31 17:11:26.12+00 </td><td>In vitro assays          </td></tr>\n",
       "\t<tr><td>85</td><td>Assay</td><td>38</td><td>2020-07-31 17:11:32.181+00</td><td>Bulk RNA-Seq             </td></tr>\n",
       "\t<tr><td>85</td><td>Assay</td><td>38</td><td>2020-07-31 17:11:32.181+00</td><td>In vitro assays          </td></tr>\n",
       "\t<tr><td>85</td><td>Assay</td><td>39</td><td>2020-07-31 17:14:57.686+00</td><td>In vitro assays          </td></tr>\n",
       "\t<tr><td>85</td><td>Assay</td><td>39</td><td>2020-07-31 17:14:57.686+00</td><td>Bulk ATAC-Seq            </td></tr>\n",
       "\t<tr><td>85</td><td>Assay</td><td>40</td><td>2020-07-31 17:14:59.054+00</td><td>In vivo assays           </td></tr>\n",
       "\t<tr><td>85</td><td>Assay</td><td>40</td><td>2020-07-31 17:14:59.054+00</td><td>Body Weight              </td></tr>\n",
       "\t<tr><td>85</td><td>Assay</td><td>41</td><td>2020-07-31 17:15:00.494+00</td><td>In vivo assays           </td></tr>\n",
       "\t<tr><td>85</td><td>Assay</td><td>41</td><td>2020-07-31 17:15:00.494+00</td><td>Food Intake              </td></tr>\n",
       "\t<tr><td>85</td><td>Assay</td><td>42</td><td>2020-07-31 17:15:01.658+00</td><td>In vivo assays           </td></tr>\n",
       "\t<tr><td>85</td><td>Assay</td><td>42</td><td>2020-07-31 17:15:01.658+00</td><td>7 Day Indirect Caliometry</td></tr>\n",
       "\t<tr><td>85</td><td>Assay</td><td>43</td><td>2020-07-31 17:15:03.097+00</td><td>In vivo assays           </td></tr>\n",
       "\t<tr><td>85</td><td>Assay</td><td>43</td><td>2020-07-31 17:15:03.097+00</td><td>Glucose Tolerance Test   </td></tr>\n",
       "\t<tr><td>85</td><td>Assay</td><td>44</td><td>2020-07-31 17:15:04.944+00</td><td>In vivo assays           </td></tr>\n",
       "\t<tr><td>85</td><td>Assay</td><td>44</td><td>2020-07-31 17:15:04.944+00</td><td>NMR                      </td></tr>\n",
       "\t<tr><td>85</td><td>Assay</td><td>52</td><td>2020-08-06 14:38:09.377+00</td><td>Demo Assay               </td></tr>\n",
       "\t<tr><td>85</td><td>Assay</td><td>52</td><td>2020-08-06 14:38:09.377+00</td><td>In Vitro                 </td></tr>\n",
       "</tbody>\n",
       "</table>\n"
      ],
      "text/latex": [
       "A data.frame: 18 × 5\n",
       "\\begin{tabular}{lllll}\n",
       " element\\_id & element\\_label & instance\\_id & date\\_created & property\\_value\\\\\n",
       " <int> & <fct> & <int> & <fct> & <fct>\\\\\n",
       "\\hline\n",
       "\t 85 & Assay & 37 & 2020-07-31 17:11:26.12+00  & Genotyping Arrays        \\\\\n",
       "\t 85 & Assay & 37 & 2020-07-31 17:11:26.12+00  & In vitro assays          \\\\\n",
       "\t 85 & Assay & 38 & 2020-07-31 17:11:32.181+00 & Bulk RNA-Seq             \\\\\n",
       "\t 85 & Assay & 38 & 2020-07-31 17:11:32.181+00 & In vitro assays          \\\\\n",
       "\t 85 & Assay & 39 & 2020-07-31 17:14:57.686+00 & In vitro assays          \\\\\n",
       "\t 85 & Assay & 39 & 2020-07-31 17:14:57.686+00 & Bulk ATAC-Seq            \\\\\n",
       "\t 85 & Assay & 40 & 2020-07-31 17:14:59.054+00 & In vivo assays           \\\\\n",
       "\t 85 & Assay & 40 & 2020-07-31 17:14:59.054+00 & Body Weight              \\\\\n",
       "\t 85 & Assay & 41 & 2020-07-31 17:15:00.494+00 & In vivo assays           \\\\\n",
       "\t 85 & Assay & 41 & 2020-07-31 17:15:00.494+00 & Food Intake              \\\\\n",
       "\t 85 & Assay & 42 & 2020-07-31 17:15:01.658+00 & In vivo assays           \\\\\n",
       "\t 85 & Assay & 42 & 2020-07-31 17:15:01.658+00 & 7 Day Indirect Caliometry\\\\\n",
       "\t 85 & Assay & 43 & 2020-07-31 17:15:03.097+00 & In vivo assays           \\\\\n",
       "\t 85 & Assay & 43 & 2020-07-31 17:15:03.097+00 & Glucose Tolerance Test   \\\\\n",
       "\t 85 & Assay & 44 & 2020-07-31 17:15:04.944+00 & In vivo assays           \\\\\n",
       "\t 85 & Assay & 44 & 2020-07-31 17:15:04.944+00 & NMR                      \\\\\n",
       "\t 85 & Assay & 52 & 2020-08-06 14:38:09.377+00 & Demo Assay               \\\\\n",
       "\t 85 & Assay & 52 & 2020-08-06 14:38:09.377+00 & In Vitro                 \\\\\n",
       "\\end{tabular}\n"
      ],
      "text/markdown": [
       "\n",
       "A data.frame: 18 × 5\n",
       "\n",
       "| element_id &lt;int&gt; | element_label &lt;fct&gt; | instance_id &lt;int&gt; | date_created &lt;fct&gt; | property_value &lt;fct&gt; |\n",
       "|---|---|---|---|---|\n",
       "| 85 | Assay | 37 | 2020-07-31 17:11:26.12+00  | Genotyping Arrays         |\n",
       "| 85 | Assay | 37 | 2020-07-31 17:11:26.12+00  | In vitro assays           |\n",
       "| 85 | Assay | 38 | 2020-07-31 17:11:32.181+00 | Bulk RNA-Seq              |\n",
       "| 85 | Assay | 38 | 2020-07-31 17:11:32.181+00 | In vitro assays           |\n",
       "| 85 | Assay | 39 | 2020-07-31 17:14:57.686+00 | In vitro assays           |\n",
       "| 85 | Assay | 39 | 2020-07-31 17:14:57.686+00 | Bulk ATAC-Seq             |\n",
       "| 85 | Assay | 40 | 2020-07-31 17:14:59.054+00 | In vivo assays            |\n",
       "| 85 | Assay | 40 | 2020-07-31 17:14:59.054+00 | Body Weight               |\n",
       "| 85 | Assay | 41 | 2020-07-31 17:15:00.494+00 | In vivo assays            |\n",
       "| 85 | Assay | 41 | 2020-07-31 17:15:00.494+00 | Food Intake               |\n",
       "| 85 | Assay | 42 | 2020-07-31 17:15:01.658+00 | In vivo assays            |\n",
       "| 85 | Assay | 42 | 2020-07-31 17:15:01.658+00 | 7 Day Indirect Caliometry |\n",
       "| 85 | Assay | 43 | 2020-07-31 17:15:03.097+00 | In vivo assays            |\n",
       "| 85 | Assay | 43 | 2020-07-31 17:15:03.097+00 | Glucose Tolerance Test    |\n",
       "| 85 | Assay | 44 | 2020-07-31 17:15:04.944+00 | In vivo assays            |\n",
       "| 85 | Assay | 44 | 2020-07-31 17:15:04.944+00 | NMR                       |\n",
       "| 85 | Assay | 52 | 2020-08-06 14:38:09.377+00 | Demo Assay                |\n",
       "| 85 | Assay | 52 | 2020-08-06 14:38:09.377+00 | In Vitro                  |\n",
       "\n"
      ],
      "text/plain": [
       "   element_id element_label instance_id date_created              \n",
       "1  85         Assay         37          2020-07-31 17:11:26.12+00 \n",
       "2  85         Assay         37          2020-07-31 17:11:26.12+00 \n",
       "3  85         Assay         38          2020-07-31 17:11:32.181+00\n",
       "4  85         Assay         38          2020-07-31 17:11:32.181+00\n",
       "5  85         Assay         39          2020-07-31 17:14:57.686+00\n",
       "6  85         Assay         39          2020-07-31 17:14:57.686+00\n",
       "7  85         Assay         40          2020-07-31 17:14:59.054+00\n",
       "8  85         Assay         40          2020-07-31 17:14:59.054+00\n",
       "9  85         Assay         41          2020-07-31 17:15:00.494+00\n",
       "10 85         Assay         41          2020-07-31 17:15:00.494+00\n",
       "11 85         Assay         42          2020-07-31 17:15:01.658+00\n",
       "12 85         Assay         42          2020-07-31 17:15:01.658+00\n",
       "13 85         Assay         43          2020-07-31 17:15:03.097+00\n",
       "14 85         Assay         43          2020-07-31 17:15:03.097+00\n",
       "15 85         Assay         44          2020-07-31 17:15:04.944+00\n",
       "16 85         Assay         44          2020-07-31 17:15:04.944+00\n",
       "17 85         Assay         52          2020-08-06 14:38:09.377+00\n",
       "18 85         Assay         52          2020-08-06 14:38:09.377+00\n",
       "   property_value           \n",
       "1  Genotyping Arrays        \n",
       "2  In vitro assays          \n",
       "3  Bulk RNA-Seq             \n",
       "4  In vitro assays          \n",
       "5  In vitro assays          \n",
       "6  Bulk ATAC-Seq            \n",
       "7  In vivo assays           \n",
       "8  Body Weight              \n",
       "9  In vivo assays           \n",
       "10 Food Intake              \n",
       "11 In vivo assays           \n",
       "12 7 Day Indirect Caliometry\n",
       "13 In vivo assays           \n",
       "14 Glucose Tolerance Test   \n",
       "15 In vivo assays           \n",
       "16 NMR                      \n",
       "17 Demo Assay               \n",
       "18 In Vitro                 "
      ]
     },
     "metadata": {},
     "output_type": "display_data"
    }
   ],
   "source": [
    "library(cubeR)\n",
    "data <- cubeR::cubeR(c(\"jaxdrug0110322\", \"jaxdrug5500783\"))\n",
    "data"
   ]
  },
  {
   "cell_type": "code",
   "execution_count": 4,
   "metadata": {
    "jupyter": {
     "source_hidden": true
    }
   },
   "outputs": [
    {
     "name": "stderr",
     "output_type": "stream",
     "text": [
      "Skipping install of 'cube' from a github remote, the SHA1 (9b3018dd) has not changed since last install.\n",
      "  Use `force = TRUE` to force installation\n",
      "\n"
     ]
    }
   ],
   "source": [
    "devtools::install_github(\"TheJacksonLaboratory/cube_r/cube\")\n",
    "library(cube)"
   ]
  },
  {
   "cell_type": "code",
   "execution_count": 2,
   "metadata": {},
   "outputs": [
    {
     "data": {
      "text/html": [
       "\n",
       "<table width=\"100%\" summary=\"page for Cube Metadata Assay {cubeR}\"><tr><td>Cube Metadata Assay {cubeR}</td><td style=\"text-align: right;\">R Documentation</td></tr></table>\n",
       "\n",
       "<h2>Cube Metadata Assay</h2>\n",
       "\n",
       "<h3>Description</h3>\n",
       "\n",
       "<p>Metadata information for assay\n",
       "</p>\n",
       "\n",
       "\n",
       "<h3>Usage</h3>\n",
       "\n",
       "<pre>\n",
       "metadata_assay\n",
       "</pre>\n",
       "\n",
       "\n",
       "<h3>Format</h3>\n",
       "\n",
       "<p>A assay metadata with 18 rows and 5 variables:\n",
       "</p>\n",
       "\n",
       "<dl>\n",
       "<dt>element_id</dt><dd><p>assay id</p>\n",
       "</dd>\n",
       "<dt>element_label</dt><dd><p>name of assay</p>\n",
       "</dd>\n",
       "<dt>instance_id</dt><dd><p>assay instance id</p>\n",
       "</dd>\n",
       "<dt>date_created</dt><dd><p>date created</p>\n",
       "</dd>\n",
       "<dt>property value</dt><dd><p>assay property value</p>\n",
       "</dd>\n",
       "</dl>\n",
       "\n",
       "\n",
       "<hr /><div style=\"text-align: center;\">[Package <em>cubeR</em> version 0.0.0.9000 ]</div>"
      ],
      "text/latex": [
       "\\inputencoding{utf8}\n",
       "\\HeaderA{Cube Metadata Assay}{Cube Metadata Assay}{Cube Metadata Assay}\n",
       "\\aliasA{metadata\\_assay}{Cube Metadata Assay}{metadata.Rul.assay}\n",
       "\\keyword{datasets}{Cube Metadata Assay}\n",
       "%\n",
       "\\begin{Description}\\relax\n",
       "Metadata information for assay\n",
       "\\end{Description}\n",
       "%\n",
       "\\begin{Usage}\n",
       "\\begin{verbatim}\n",
       "metadata_assay\n",
       "\\end{verbatim}\n",
       "\\end{Usage}\n",
       "%\n",
       "\\begin{Format}\n",
       "A assay metadata with 18 rows and 5 variables:\n",
       "\\begin{description}\n",
       "\n",
       "\\item[element\\_id] assay id\n",
       "\\item[element\\_label] name of assay\n",
       "\\item[instance\\_id] assay instance id\n",
       "\\item[date\\_created] date created\n",
       "\\item[property value] assay property value\n",
       "\n",
       "\\end{description}\n",
       "\n",
       "\\end{Format}"
      ],
      "text/plain": [
       "Cube Metadata Assay           package:cubeR            R Documentation\n",
       "\n",
       "_\bC_\bu_\bb_\be _\bM_\be_\bt_\ba_\bd_\ba_\bt_\ba _\bA_\bs_\bs_\ba_\by\n",
       "\n",
       "_\bD_\be_\bs_\bc_\br_\bi_\bp_\bt_\bi_\bo_\bn:\n",
       "\n",
       "     Metadata information for assay\n",
       "\n",
       "_\bU_\bs_\ba_\bg_\be:\n",
       "\n",
       "     metadata_assay\n",
       "     \n",
       "_\bF_\bo_\br_\bm_\ba_\bt:\n",
       "\n",
       "     A assay metadata with 18 rows and 5 variables:\n",
       "\n",
       "     element_id assay id\n",
       "\n",
       "     element_label name of assay\n",
       "\n",
       "     instance_id assay instance id\n",
       "\n",
       "     date_created date created\n",
       "\n",
       "     property value assay property value\n"
      ]
     },
     "metadata": {},
     "output_type": "display_data"
    }
   ],
   "source": [
    "help(metadata_assay)"
   ]
  },
  {
   "cell_type": "code",
   "execution_count": null,
   "metadata": {},
   "outputs": [],
   "source": []
  }
 ],
 "metadata": {
  "kernelspec": {
   "display_name": "R",
   "language": "R",
   "name": "ir"
  },
  "language_info": {
   "codemirror_mode": "r",
   "file_extension": ".r",
   "mimetype": "text/x-r-source",
   "name": "R",
   "pygments_lexer": "r",
   "version": "3.6.3"
  }
 },
 "nbformat": 4,
 "nbformat_minor": 4
}
