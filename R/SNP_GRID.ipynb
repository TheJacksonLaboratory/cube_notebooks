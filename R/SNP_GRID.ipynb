{
 "cells": [
  {
   "cell_type": "markdown",
   "metadata": {},
   "source": [
    "# SNP Grid\n",
    "This is custom R package for SNP Grid data"
   ]
  },
  {
   "cell_type": "code",
   "execution_count": 1,
   "metadata": {},
   "outputs": [
    {
     "name": "stderr",
     "output_type": "stream",
     "text": [
      "Installing package into ‘/usr/local/lib/R/site-library’\n",
      "(as ‘lib’ is unspecified)\n",
      "\n",
      "also installing the dependency ‘remotes’\n",
      "\n",
      "\n",
      "Loading required package: usethis\n",
      "\n"
     ]
    }
   ],
   "source": [
    "install.packages(\"devtools\")\n",
    "library(\"devtools\")"
   ]
  },
  {
   "cell_type": "code",
   "execution_count": null,
   "metadata": {},
   "outputs": [
    {
     "name": "stderr",
     "output_type": "stream",
     "text": [
      "Downloading GitHub repo TheJacksonLaboratory/cube_r@HEAD\n",
      "\n"
     ]
    },
    {
     "name": "stdout",
     "output_type": "stream",
     "text": [
      "stringi (1.4.6 -> 1.5.3) [CRAN]\n",
      "glue    (1.4.1 -> 1.4.2) [CRAN]\n"
     ]
    },
    {
     "name": "stderr",
     "output_type": "stream",
     "text": [
      "Installing 2 packages: stringi, glue\n",
      "\n",
      "Installing packages into ‘/usr/local/lib/R/site-library’\n",
      "(as ‘lib’ is unspecified)\n",
      "\n"
     ]
    }
   ],
   "source": [
    "devtools::install_github(\"TheJacksonLaboratory/cube_r/cube\")\n",
    "library(cube)"
   ]
  },
  {
   "cell_type": "code",
   "execution_count": 4,
   "metadata": {},
   "outputs": [
    {
     "data": {
      "text/html": [
       "<table>\n",
       "<caption>A data.frame: 5 × 10</caption>\n",
       "<thead>\n",
       "\t<tr><th></th><th scope=col>chr</th><th scope=col>start_position</th><th scope=col>end_position</th><th scope=col>rs</th><th scope=col>strain_id</th><th scope=col>strain_name</th><th scope=col>genotyp</th><th scope=col>imputed_flag</th><th scope=col>percent_impluted</th><th scope=col>percent_missing</th></tr>\n",
       "\t<tr><th></th><th scope=col>&lt;int&gt;</th><th scope=col>&lt;int&gt;</th><th scope=col>&lt;int&gt;</th><th scope=col>&lt;fct&gt;</th><th scope=col>&lt;dbl&gt;</th><th scope=col>&lt;fct&gt;</th><th scope=col>&lt;fct&gt;</th><th scope=col>&lt;int&gt;</th><th scope=col>&lt;dbl&gt;</th><th scope=col>&lt;dbl&gt;</th></tr>\n",
       "</thead>\n",
       "<tbody>\n",
       "\t<tr><th scope=row>1</th><td>6</td><td>110002640</td><td>110002643</td><td>rs29877327</td><td>5.245351e+18</td><td>129P2/OlaHsd:129P2/OlaHsd</td><td>A</td><td>0</td><td>89.8</td><td>3.6</td></tr>\n",
       "\t<tr><th scope=row>2</th><td>6</td><td>110002640</td><td>110002643</td><td>rs29877327</td><td>7.681566e+18</td><td>C57L/J:C57L/J            </td><td>A</td><td>0</td><td>89.8</td><td>3.6</td></tr>\n",
       "\t<tr><th scope=row>3</th><td>6</td><td>110002640</td><td>110002643</td><td>rs29877327</td><td>6.958038e+18</td><td>NZO/HlLtJ:NZO/HlLtJ      </td><td>A</td><td>0</td><td>89.8</td><td>3.6</td></tr>\n",
       "\t<tr><th scope=row>4</th><td>6</td><td>110002640</td><td>110002643</td><td>rs29877327</td><td>8.148561e+17</td><td>NZB/BlNJ:NZB/BlNJ        </td><td>A</td><td>0</td><td>89.8</td><td>3.6</td></tr>\n",
       "\t<tr><th scope=row>5</th><td>6</td><td>110002640</td><td>110002643</td><td>rs29877327</td><td>7.937957e+18</td><td>C57BL/10J:C57BL/10J      </td><td>A</td><td>0</td><td>89.8</td><td>3.6</td></tr>\n",
       "</tbody>\n",
       "</table>\n"
      ],
      "text/latex": [
       "A data.frame: 5 × 10\n",
       "\\begin{tabular}{r|llllllllll}\n",
       "  & chr & start\\_position & end\\_position & rs & strain\\_id & strain\\_name & genotyp & imputed\\_flag & percent\\_impluted & percent\\_missing\\\\\n",
       "  & <int> & <int> & <int> & <fct> & <dbl> & <fct> & <fct> & <int> & <dbl> & <dbl>\\\\\n",
       "\\hline\n",
       "\t1 & 6 & 110002640 & 110002643 & rs29877327 & 5.245351e+18 & 129P2/OlaHsd:129P2/OlaHsd & A & 0 & 89.8 & 3.6\\\\\n",
       "\t2 & 6 & 110002640 & 110002643 & rs29877327 & 7.681566e+18 & C57L/J:C57L/J             & A & 0 & 89.8 & 3.6\\\\\n",
       "\t3 & 6 & 110002640 & 110002643 & rs29877327 & 6.958038e+18 & NZO/HlLtJ:NZO/HlLtJ       & A & 0 & 89.8 & 3.6\\\\\n",
       "\t4 & 6 & 110002640 & 110002643 & rs29877327 & 8.148561e+17 & NZB/BlNJ:NZB/BlNJ         & A & 0 & 89.8 & 3.6\\\\\n",
       "\t5 & 6 & 110002640 & 110002643 & rs29877327 & 7.937957e+18 & C57BL/10J:C57BL/10J       & A & 0 & 89.8 & 3.6\\\\\n",
       "\\end{tabular}\n"
      ],
      "text/markdown": [
       "\n",
       "A data.frame: 5 × 10\n",
       "\n",
       "| <!--/--> | chr &lt;int&gt; | start_position &lt;int&gt; | end_position &lt;int&gt; | rs &lt;fct&gt; | strain_id &lt;dbl&gt; | strain_name &lt;fct&gt; | genotyp &lt;fct&gt; | imputed_flag &lt;int&gt; | percent_impluted &lt;dbl&gt; | percent_missing &lt;dbl&gt; |\n",
       "|---|---|---|---|---|---|---|---|---|---|---|\n",
       "| 1 | 6 | 110002640 | 110002643 | rs29877327 | 5.245351e+18 | 129P2/OlaHsd:129P2/OlaHsd | A | 0 | 89.8 | 3.6 |\n",
       "| 2 | 6 | 110002640 | 110002643 | rs29877327 | 7.681566e+18 | C57L/J:C57L/J             | A | 0 | 89.8 | 3.6 |\n",
       "| 3 | 6 | 110002640 | 110002643 | rs29877327 | 6.958038e+18 | NZO/HlLtJ:NZO/HlLtJ       | A | 0 | 89.8 | 3.6 |\n",
       "| 4 | 6 | 110002640 | 110002643 | rs29877327 | 8.148561e+17 | NZB/BlNJ:NZB/BlNJ         | A | 0 | 89.8 | 3.6 |\n",
       "| 5 | 6 | 110002640 | 110002643 | rs29877327 | 7.937957e+18 | C57BL/10J:C57BL/10J       | A | 0 | 89.8 | 3.6 |\n",
       "\n"
      ],
      "text/plain": [
       "  chr start_position end_position rs         strain_id   \n",
       "1 6   110002640      110002643    rs29877327 5.245351e+18\n",
       "2 6   110002640      110002643    rs29877327 7.681566e+18\n",
       "3 6   110002640      110002643    rs29877327 6.958038e+18\n",
       "4 6   110002640      110002643    rs29877327 8.148561e+17\n",
       "5 6   110002640      110002643    rs29877327 7.937957e+18\n",
       "  strain_name               genotyp imputed_flag percent_impluted\n",
       "1 129P2/OlaHsd:129P2/OlaHsd A       0            89.8            \n",
       "2 C57L/J:C57L/J             A       0            89.8            \n",
       "3 NZO/HlLtJ:NZO/HlLtJ       A       0            89.8            \n",
       "4 NZB/BlNJ:NZB/BlNJ         A       0            89.8            \n",
       "5 C57BL/10J:C57BL/10J       A       0            89.8            \n",
       "  percent_missing\n",
       "1 3.6            \n",
       "2 3.6            \n",
       "3 3.6            \n",
       "4 3.6            \n",
       "5 3.6            "
      ]
     },
     "metadata": {},
     "output_type": "display_data"
    }
   ],
   "source": [
    "head(snp_data, 5)"
   ]
  },
  {
   "cell_type": "code",
   "execution_count": 12,
   "metadata": {},
   "outputs": [
    {
     "data": {
      "image/png": "[encoded data removed]",
      "text/plain": [
       "plot without title"
      ]
     },
     "metadata": {
      "image/png": {
       "height": 420,
       "width": 420
      },
      "text/plain": {
       "height": 420,
       "width": 420
      }
     },
     "output_type": "display_data"
    }
   ],
   "source": [
    "group_by_rs = table(snp_data$rs)\n",
    "barplot(group_by_rs, beside = TRUE, legend = TRUE)"
   ]
  },
  {
   "cell_type": "code",
   "execution_count": 8,
   "metadata": {},
   "outputs": [
    {
     "data": {
      "image/png": "[encoded data removed]",
      "text/plain": [
       "plot without title"
      ]
     },
     "metadata": {
      "image/png": {
       "height": 420,
       "width": 420
      },
      "text/plain": {
       "height": 420,
       "width": 420
      }
     },
     "output_type": "display_data"
    }
   ],
   "source": [
    "group_by_strain = table(snp_data$strain_name)\n",
    "barplot(group_by_strain, beside = TRUE, legend = TRUE)"
   ]
  },
  {
   "cell_type": "code",
   "execution_count": 6,
   "metadata": {},
   "outputs": [
    {
     "data": {
      "text/html": [
       "\n",
       "<table width=\"100%\" summary=\"page for SNP Grid Data {cube}\"><tr><td>SNP Grid Data {cube}</td><td style=\"text-align: right;\">R Documentation</td></tr></table>\n",
       "\n",
       "<h2>SNP Grid Data</h2>\n",
       "\n",
       "<h3>Description</h3>\n",
       "\n",
       "<p>A sample data set for SNP Grid Data.\n",
       "</p>\n",
       "\n",
       "\n",
       "<h3>Usage</h3>\n",
       "\n",
       "<pre>\n",
       "snp_data\n",
       "</pre>\n",
       "\n",
       "\n",
       "<h3>Format</h3>\n",
       "\n",
       "<p>A SNP data frame with 1000 rows and 10 variables:\n",
       "</p>\n",
       "\n",
       "<dl>\n",
       "<dt>chr</dt><dd><p>chromosome number, eg: 6</p>\n",
       "</dd>\n",
       "<dt>start_position</dt><dd><p>start position</p>\n",
       "</dd>\n",
       "<dt>end_position</dt><dd><p>end position</p>\n",
       "</dd>\n",
       "<dt>rs</dt><dd><p>rs</p>\n",
       "</dd>\n",
       "<dt>strain_id</dt><dd><p>strain id</p>\n",
       "</dd>\n",
       "<dt>strain_name</dt><dd><p>strain name</p>\n",
       "</dd>\n",
       "<dt>genotyp</dt><dd><p>genotype</p>\n",
       "</dd>\n",
       "<dt>imputed_flag</dt><dd><p>imputed flag</p>\n",
       "</dd>\n",
       "<dt>percent_impluted</dt><dd><p>percent impluted</p>\n",
       "</dd>\n",
       "<dt>percent_missing</dt><dd><p>percent missing</p>\n",
       "</dd>\n",
       "</dl>\n",
       "\n",
       "\n",
       "\n",
       "<h3>Source</h3>\n",
       "\n",
       "<p><a href=\"https://www.github.com/TheJacksonLaboratory/cube_r\">https://www.github.com/TheJacksonLaboratory/cube_r</a>\n",
       "</p>\n",
       "\n",
       "<hr /><div style=\"text-align: center;\">[Package <em>cube</em> version 0.0.0.9000 ]</div>"
      ],
      "text/latex": [
       "\\inputencoding{utf8}\n",
       "\\HeaderA{SNP Grid Data}{SNP Grid Data}{SNP Grid Data}\n",
       "\\aliasA{snp\\_data}{SNP Grid Data}{snp.Rul.data}\n",
       "\\keyword{datasets}{SNP Grid Data}\n",
       "%\n",
       "\\begin{Description}\\relax\n",
       "A sample data set for SNP Grid Data.\n",
       "\\end{Description}\n",
       "%\n",
       "\\begin{Usage}\n",
       "\\begin{verbatim}\n",
       "snp_data\n",
       "\\end{verbatim}\n",
       "\\end{Usage}\n",
       "%\n",
       "\\begin{Format}\n",
       "A SNP data frame with 1000 rows and 10 variables:\n",
       "\\begin{description}\n",
       "\n",
       "\\item[chr] chromosome number, eg: 6\n",
       "\\item[start\\_position] start position\n",
       "\\item[end\\_position] end position\n",
       "\\item[rs] rs\n",
       "\\item[strain\\_id] strain id\n",
       "\\item[strain\\_name] strain name\n",
       "\\item[genotyp] genotype\n",
       "\\item[imputed\\_flag] imputed flag\n",
       "\\item[percent\\_impluted] percent impluted\n",
       "\\item[percent\\_missing] percent missing\n",
       "\n",
       "\\end{description}\n",
       "\n",
       "\\end{Format}\n",
       "%\n",
       "\\begin{Source}\\relax\n",
       "\\url{https://www.github.com/TheJacksonLaboratory/cube_r}\n",
       "\\end{Source}"
      ],
      "text/plain": [
       "SNP Grid Data               package:cube               R Documentation\n",
       "\n",
       "_\bS_\bN_\bP _\bG_\br_\bi_\bd _\bD_\ba_\bt_\ba\n",
       "\n",
       "_\bD_\be_\bs_\bc_\br_\bi_\bp_\bt_\bi_\bo_\bn:\n",
       "\n",
       "     A sample data set for SNP Grid Data.\n",
       "\n",
       "_\bU_\bs_\ba_\bg_\be:\n",
       "\n",
       "     snp_data\n",
       "     \n",
       "_\bF_\bo_\br_\bm_\ba_\bt:\n",
       "\n",
       "     A SNP data frame with 1000 rows and 10 variables:\n",
       "\n",
       "     chr chromosome number, eg: 6\n",
       "\n",
       "     start_position start position\n",
       "\n",
       "     end_position end position\n",
       "\n",
       "     rs rs\n",
       "\n",
       "     strain_id strain id\n",
       "\n",
       "     strain_name strain name\n",
       "\n",
       "     genotyp genotype\n",
       "\n",
       "     imputed_flag imputed flag\n",
       "\n",
       "     percent_impluted percent impluted\n",
       "\n",
       "     percent_missing percent missing\n",
       "\n",
       "_\bS_\bo_\bu_\br_\bc_\be:\n",
       "\n",
       "     <URL: https://www.github.com/TheJacksonLaboratory/cube_r>\n"
      ]
     },
     "metadata": {},
     "output_type": "display_data"
    }
   ],
   "source": [
    "help(snp_data)"
   ]
  }
 ],
 "metadata": {
  "kernelspec": {
   "display_name": "R",
   "language": "R",
   "name": "ir"
  },
  "language_info": {
   "codemirror_mode": "r",
   "file_extension": ".r",
   "mimetype": "text/x-r-source",
   "name": "R",
   "pygments_lexer": "r",
   "version": "3.6.3"
  }
 },
 "nbformat": 4,
 "nbformat_minor": 4
}
